{
 "cells": [
  {
   "cell_type": "code",
   "execution_count": 1,
   "id": "edb85d06",
   "metadata": {
    "ExecuteTime": {
     "end_time": "2023-11-14T17:27:25.158073Z",
     "start_time": "2023-11-14T17:27:23.655144Z"
    }
   },
   "outputs": [
    {
     "name": "stderr",
     "output_type": "stream",
     "text": [
      "/usr/lib/python3/dist-packages/scipy/__init__.py:146: UserWarning: A NumPy version >=1.17.3 and <1.25.0 is required for this version of SciPy (detected version 1.26.1\n",
      "  warnings.warn(f\"A NumPy version >={np_minversion} and <{np_maxversion}\"\n"
     ]
    }
   ],
   "source": [
    "# import all required packages\n",
    "import spacy\n",
    "import re\n",
    "import pandas as pd\n",
    "import numpy as np\n",
    "import gensim\n",
    "from gensim.utils import simple_preprocess \n",
    "import gensim.corpora as corpora\n",
    "from pprint import pprint"
   ]
  },
  {
   "cell_type": "code",
   "execution_count": 2,
   "id": "b3dbeed3",
   "metadata": {
    "ExecuteTime": {
     "end_time": "2023-11-14T17:30:40.950720Z",
     "start_time": "2023-11-14T17:30:40.134956Z"
    }
   },
   "outputs": [
    {
     "data": {
      "text/html": [
       "<div>\n",
       "<style scoped>\n",
       "    .dataframe tbody tr th:only-of-type {\n",
       "        vertical-align: middle;\n",
       "    }\n",
       "\n",
       "    .dataframe tbody tr th {\n",
       "        vertical-align: top;\n",
       "    }\n",
       "\n",
       "    .dataframe thead th {\n",
       "        text-align: right;\n",
       "    }\n",
       "</style>\n",
       "<table border=\"1\" class=\"dataframe\">\n",
       "  <thead>\n",
       "    <tr style=\"text-align: right;\">\n",
       "      <th></th>\n",
       "      <th>name</th>\n",
       "      <th>description</th>\n",
       "    </tr>\n",
       "  </thead>\n",
       "  <tbody>\n",
       "    <tr>\n",
       "      <th>0</th>\n",
       "      <td>Legend Fire Squad survival: Free Fire Battlegr...</td>\n",
       "      <td>Ready to play an amazing and exciting best sho...</td>\n",
       "    </tr>\n",
       "    <tr>\n",
       "      <th>1</th>\n",
       "      <td>Ambulance Game</td>\n",
       "      <td>You must be a fan of the driving games. We ass...</td>\n",
       "    </tr>\n",
       "    <tr>\n",
       "      <th>2</th>\n",
       "      <td>Beam Drive NG Death Stair Car Crash Simulator</td>\n",
       "      <td>Beam Drive NG Death Stair Car Crash Accidents ...</td>\n",
       "    </tr>\n",
       "    <tr>\n",
       "      <th>3</th>\n",
       "      <td>Kelime İncileri</td>\n",
       "      <td>Yeni Kelime Bulmaca Oyununuz! Kelime Arama ve ...</td>\n",
       "    </tr>\n",
       "    <tr>\n",
       "      <th>4</th>\n",
       "      <td>Word Blocks</td>\n",
       "      <td>Word Blocks is a new kind of word search puzzl...</td>\n",
       "    </tr>\n",
       "    <tr>\n",
       "      <th>5</th>\n",
       "      <td>Free Fire Commando - Counter Attack FPS 2019</td>\n",
       "      <td>Free Fire Commando - Counter Attack FPS 2019 i...</td>\n",
       "    </tr>\n",
       "    <tr>\n",
       "      <th>6</th>\n",
       "      <td>Fall Race 3D</td>\n",
       "      <td>The most exciting sky race!Run through the sky...</td>\n",
       "    </tr>\n",
       "    <tr>\n",
       "      <th>7</th>\n",
       "      <td>Math School Game Basic: Crazy Principal</td>\n",
       "      <td>Your school principal went crazy and locked yo...</td>\n",
       "    </tr>\n",
       "    <tr>\n",
       "      <th>8</th>\n",
       "      <td>Jump Cube</td>\n",
       "      <td>Jump Cube is an addictive game, tap the right ...</td>\n",
       "    </tr>\n",
       "    <tr>\n",
       "      <th>9</th>\n",
       "      <td>Tien Len Offline</td>\n",
       "      <td>Một tựa game cũng như cách chơi ko thể quen th...</td>\n",
       "    </tr>\n",
       "  </tbody>\n",
       "</table>\n",
       "</div>"
      ],
      "text/plain": [
       "                                                name  \\\n",
       "0  Legend Fire Squad survival: Free Fire Battlegr...   \n",
       "1                                     Ambulance Game   \n",
       "2      Beam Drive NG Death Stair Car Crash Simulator   \n",
       "3                                    Kelime İncileri   \n",
       "4                                        Word Blocks   \n",
       "5       Free Fire Commando - Counter Attack FPS 2019   \n",
       "6                                       Fall Race 3D   \n",
       "7            Math School Game Basic: Crazy Principal   \n",
       "8                                          Jump Cube   \n",
       "9                                   Tien Len Offline   \n",
       "\n",
       "                                         description  \n",
       "0  Ready to play an amazing and exciting best sho...  \n",
       "1  You must be a fan of the driving games. We ass...  \n",
       "2  Beam Drive NG Death Stair Car Crash Accidents ...  \n",
       "3  Yeni Kelime Bulmaca Oyununuz! Kelime Arama ve ...  \n",
       "4  Word Blocks is a new kind of word search puzzl...  \n",
       "5  Free Fire Commando - Counter Attack FPS 2019 i...  \n",
       "6  The most exciting sky race!Run through the sky...  \n",
       "7  Your school principal went crazy and locked yo...  \n",
       "8  Jump Cube is an addictive game, tap the right ...  \n",
       "9  Một tựa game cũng như cách chơi ko thể quen th...  "
      ]
     },
     "execution_count": 2,
     "metadata": {},
     "output_type": "execute_result"
    }
   ],
   "source": [
    "# Reading loading/data\n",
    "data = pd.read_csv(\"https://raw.githubusercontent.com/SandieIJ/Capstone/master/data/sandra_csv_results-20190723-155508.csv\")\n",
    "\n",
    "# Sample of the output\n",
    "data.head(10)"
   ]
  },
  {
   "cell_type": "code",
   "execution_count": 4,
   "id": "aeaf67ab",
   "metadata": {
    "ExecuteTime": {
     "end_time": "2023-11-14T17:33:09.877408Z",
     "start_time": "2023-11-14T17:33:09.873247Z"
    }
   },
   "outputs": [
    {
     "data": {
      "text/plain": [
       "pandas.core.frame.DataFrame"
      ]
     },
     "execution_count": 4,
     "metadata": {},
     "output_type": "execute_result"
    }
   ],
   "source": [
    "type(data)"
   ]
  },
  {
   "cell_type": "code",
   "execution_count": 5,
   "id": "8c4088c5",
   "metadata": {
    "ExecuteTime": {
     "end_time": "2023-11-14T17:33:58.461489Z",
     "start_time": "2023-11-14T17:33:58.456994Z"
    }
   },
   "outputs": [
    {
     "name": "stdout",
     "output_type": "stream",
     "text": [
      "Brick Breaker 3D is a single-tap hyper casual game that will keep you hooked for hours!Hold the screen to aim, swipe the ball to the brick and break all the bricks easily!The game features unlimited levels and 20 beautiful color balls.\n"
     ]
    }
   ],
   "source": [
    "# convert the descriptions from a data frame column into a list\n",
    "descriptions = data.description.values.tolist()\n",
    "\n",
    "# sample of the output\n",
    "print(descriptions[10])"
   ]
  },
  {
   "cell_type": "code",
   "execution_count": 6,
   "id": "641633a8",
   "metadata": {
    "ExecuteTime": {
     "end_time": "2023-11-14T17:36:13.703288Z",
     "start_time": "2023-11-14T17:36:13.166408Z"
    }
   },
   "outputs": [],
   "source": [
    "no_new_lines = [re.sub('\\s+', ' ', sent) for sent in descriptions] \n",
    "\n",
    "#Remove non letter characters\n",
    "non_letters = [re.sub('[^a-zA-Z]', ' ', no_new_line) \\\n",
    "                    for no_new_line in no_new_lines]\n",
    "\n",
    "# Remove distracting single quotes\n",
    "no_quotes = [re.sub(\"\\'\", '', non_letter) for \\\n",
    "              non_letter in non_letters]"
   ]
  },
  {
   "cell_type": "code",
   "execution_count": 7,
   "id": "f02aa058",
   "metadata": {
    "ExecuteTime": {
     "end_time": "2023-11-14T17:38:54.679880Z",
     "start_time": "2023-11-14T17:38:47.307683Z"
    }
   },
   "outputs": [],
   "source": [
    "#break down sentences into words\n",
    "def sent_to_words(sentences): \n",
    "    for sentence in sentences:\n",
    "        yield(gensim.utils.simple_preprocess(str(sentence), deacc=True))\n",
    "\n",
    "data_words = list(sent_to_words(no_quotes))\n",
    "\n",
    "# Build the bigram and trigram models\n",
    "bigram = gensim.models.Phrases(data_words, min_count=5, threshold=100) \n",
    "trigram = gensim.models.Phrases(bigram[no_quotes], threshold=100)\n",
    "\n",
    "# Faster way to get a sentence clubbed as a trigram/bigram\n",
    "bigram_mod = gensim.models.phrases.Phraser(bigram) \n",
    "\n",
    "trigram_mod = gensim.models.phrases.Phraser(trigram)\n",
    "\n",
    "def make_bigrams(texts):\n",
    "    return [bigram_mod[doc] for doc in texts]\n",
    "\n",
    "def make_trigrams(texts):\n",
    "    return [trigram_mod[bigram_mod[doc]] for doc in texts]\n",
    "\n",
    "# Form Bigrams\n",
    "data_words_bigrams = make_bigrams(data_words)"
   ]
  },
  {
   "cell_type": "code",
   "execution_count": null,
   "id": "2196d13d",
   "metadata": {},
   "outputs": [],
   "source": []
  }
 ],
 "metadata": {
  "kernelspec": {
   "display_name": "Python 3 (ipykernel)",
   "language": "python",
   "name": "python3"
  },
  "language_info": {
   "codemirror_mode": {
    "name": "ipython",
    "version": 3
   },
   "file_extension": ".py",
   "mimetype": "text/x-python",
   "name": "python",
   "nbconvert_exporter": "python",
   "pygments_lexer": "ipython3",
   "version": "3.10.12"
  }
 },
 "nbformat": 4,
 "nbformat_minor": 5
}
